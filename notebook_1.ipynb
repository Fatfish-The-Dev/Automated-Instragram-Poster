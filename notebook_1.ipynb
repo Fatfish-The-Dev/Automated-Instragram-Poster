{
 "cells": [
  {
   "cell_type": "markdown",
   "id": "9d860ada-095c-499d-a099-d4aa907d5015",
   "metadata": {},
   "source": [
    "### Writing to a File - different iterations"
   ]
  },
  {
   "cell_type": "markdown",
   "id": "98c0026a-e488-451f-923d-db9493fecb89",
   "metadata": {},
   "source": [
    "#### Iter 1: Writing hardcoded string to text file \n",
    "Purpose: sanity check that i haven't lost it"
   ]
  },
  {
   "cell_type": "code",
   "execution_count": 1,
   "id": "02f816d9-75aa-4029-a35e-0163a5d0602f",
   "metadata": {},
   "outputs": [
    {
     "name": "stdout",
     "output_type": "stream",
     "text": [
      "Content has been written to storage_file_1st_iteration.txt\n"
     ]
    }
   ],
   "source": [
    "file_path = 'storage_file_1st_iteration.txt'\n",
    "with open(file_path,'w') as file: \n",
    "    file.write('some hardcoded string')\n",
    "\n",
    "print(f\"Content has been written to {file_path}\")"
   ]
  },
  {
   "cell_type": "markdown",
   "id": "479d2c9d-0c69-4cb4-834a-5f59b9ac9dba",
   "metadata": {},
   "source": [
    "#### Iter 2: Writing hardcoded stuff to json file - \n",
    "Purpose: decided to go with json for initial file format that I’ll store to .... so testing that in simplest way possible \n",
    "\n",
    "Reason for this decision: flexibility because I don’t know all the data that I want to store……. At the moment it’s just a few values - today’s calorie count, today’s weight, today’s did I go to the gym - but that’s subject to change…… and in JSON can put objects with any number of key-value pairs - doesn’t have to follow a set schema unlike what you’d in a table document i.e. excel )…… if need to update later to store in a more fitting file format I can do that then"
   ]
  },
  {
   "cell_type": "code",
   "execution_count": 7,
   "id": "35ae0848-5ed6-4c16-8d27-5cd300e595de",
   "metadata": {},
   "outputs": [],
   "source": [
    "import json "
   ]
  },
  {
   "cell_type": "code",
   "execution_count": 9,
   "id": "ed1083ae-302f-4e5f-af01-1890449c188a",
   "metadata": {},
   "outputs": [],
   "source": [
    "# for Day 1\n",
    "data = {\n",
    "    'went_to_gym' : False,\n",
    "    'caloric_intake' : 3500, \n",
    "    'weight_in_lbs' : 214\n",
    "}\n",
    "\n",
    "file_path = 'storage_file_2nd_iteration.json'\n",
    "with open(file_path,'w') as json_file: \n",
    "    json.dump(data, json_file)\n"
   ]
  },
  {
   "cell_type": "code",
   "execution_count": null,
   "id": "e54486ec-3ca5-4db7-bed4-05b308788cbe",
   "metadata": {},
   "outputs": [],
   "source": []
  }
 ],
 "metadata": {
  "kernelspec": {
   "display_name": "Python 3 (ipykernel)",
   "language": "python",
   "name": "python3"
  },
  "language_info": {
   "codemirror_mode": {
    "name": "ipython",
    "version": 3
   },
   "file_extension": ".py",
   "mimetype": "text/x-python",
   "name": "python",
   "nbconvert_exporter": "python",
   "pygments_lexer": "ipython3",
   "version": "3.11.7"
  }
 },
 "nbformat": 4,
 "nbformat_minor": 5
}
