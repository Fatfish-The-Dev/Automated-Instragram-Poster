{
 "cells": [
  {
   "cell_type": "markdown",
   "id": "9d860ada-095c-499d-a099-d4aa907d5015",
   "metadata": {},
   "source": [
    "### Writing to a File - different iterations"
   ]
  },
  {
   "cell_type": "markdown",
   "id": "98c0026a-e488-451f-923d-db9493fecb89",
   "metadata": {},
   "source": [
    "#### Iter 1: Writing hardcoded string to text file \n",
    "Purpose: sanity check that i haven't lost it"
   ]
  },
  {
   "cell_type": "code",
   "execution_count": 1,
   "id": "02f816d9-75aa-4029-a35e-0163a5d0602f",
   "metadata": {},
   "outputs": [
    {
     "name": "stdout",
     "output_type": "stream",
     "text": [
      "Content has been written to storage_file_1st_iteration.txt\n"
     ]
    }
   ],
   "source": [
    "file_path = 'storage_file_1st_iteration.txt'\n",
    "with open(file_path,'w') as file: \n",
    "    file.write('some hardcoded string')\n",
    "\n",
    "print(f\"Content has been written to {file_path}\")"
   ]
  },
  {
   "cell_type": "markdown",
   "id": "479d2c9d-0c69-4cb4-834a-5f59b9ac9dba",
   "metadata": {},
   "source": [
    "#### Iter 2: Writing hardcoded stuff to json file - \n",
    "Purpose: decided to go with json for initial file format that I’ll store to .... so testing that in simplest way possible \n",
    "\n",
    "Reason for this decision: flexibility because I don’t know all the data that I want to store……. At the moment it’s just a few values - today’s calorie count, today’s weight, today’s did I go to the gym - but that’s subject to change…… and in JSON can put objects with any number of key-value pairs - doesn’t have to follow a set schema unlike what you’d in a table document i.e. excel )…… if need to update later to store in a more fitting file format I can do that then"
   ]
  },
  {
   "cell_type": "code",
   "execution_count": 2,
   "id": "35ae0848-5ed6-4c16-8d27-5cd300e595de",
   "metadata": {},
   "outputs": [],
   "source": [
    "import json "
   ]
  },
  {
   "cell_type": "code",
   "execution_count": 19,
   "id": "ed1083ae-302f-4e5f-af01-1890449c188a",
   "metadata": {},
   "outputs": [],
   "source": [
    "# for Day 1\n",
    "data = [{\n",
    "    'went_to_gym' : False,\n",
    "    'caloric_intake' : 3500, \n",
    "    'weight_in_lbs' : 214\n",
    "}]\n",
    "\n",
    "file_path = 'storage_file_2nd_iteration.json'\n",
    "with open(file_path,'w') as json_file: \n",
    "    json.dump(data, json_file)"
   ]
  },
  {
   "cell_type": "code",
   "execution_count": 14,
   "id": "e54486ec-3ca5-4db7-bed4-05b308788cbe",
   "metadata": {},
   "outputs": [],
   "source": [
    "# for following days: FAILED 1st attempt DO NOT USE - write using append mode... so as to not overwrite\n",
    "\n",
    "# \n",
    "# didn't go as expected as appending literally just appended..... whereas need it to put a comma first before appending the new object\n",
    "# [{\"went_to_gym\": false, \"caloric_intake\": 3500, \"weight_in_lbs\": 214}]{\"went_to_gym\": true, \"caloric_intake\": 2000, \"weight_in_lbs\": 210}\n",
    "data = {\n",
    "    'went_to_gym' : True,\n",
    "    'caloric_intake' : 2000, \n",
    "    'weight_in_lbs' : 210\n",
    "}\n",
    "\n",
    "file_path = 'storage_file_2nd_iteration.json'\n",
    "with open(file_path,'a') as json_file: \n",
    "    json.dump(data, json_file)"
   ]
  },
  {
   "cell_type": "code",
   "execution_count": 21,
   "id": "aa3cfad2-df93-4f74-b084-2a47ed82fa48",
   "metadata": {},
   "outputs": [
    {
     "name": "stdout",
     "output_type": "stream",
     "text": [
      "[{'went_to_gym': False, 'caloric_intake': 3500, 'weight_in_lbs': 214}, {'went_to_gym': True, 'caloric_intake': 2000, 'weight_in_lbs': 210}]\n"
     ]
    }
   ],
   "source": [
    "# for following days: 2nd attempt\n",
    "\n",
    "\"\"\"\n",
    "From ChatGPT: \n",
    "To append an object to an existing JSON file, you need to follow a slightly different approach because you can't directly append JSON objects to a file like you would \n",
    "with a plain text file. Instead, you'll need to:\n",
    "\n",
    "Read the existing JSON data from the file.\n",
    "Append the new object to the data.\n",
    "Write the updated data back to the file.\n",
    "\"\"\"\n",
    "file_path = 'storage_file_2nd_iteration.json'\n",
    "with open(file_path,'r') as json_file: \n",
    "    existing_data = json.load(json_file)\n",
    "\n",
    "print(existing_data)\n",
    "new_data = {\n",
    "    'went_to_gym' : True,\n",
    "    'caloric_intake' : 2000, \n",
    "    'weight_in_lbs' : 210,\n",
    "    'ate_shit' : True\n",
    "}\n",
    "existing_data.append(new_data)\n",
    "\n",
    "\n",
    "file_path = 'storage_file_2nd_iteration.json'\n",
    "with open(file_path,'w') as json_file: \n",
    "    json.dump(existing_data, json_file)\n",
    "\n",
    "# [{\"went_to_gym\": false, \"caloric_intake\": 3500, \"weight_in_lbs\": 214}, {\"went_to_gym\": true, \"caloric_intake\": 2000, \"weight_in_lbs\": 210}]"
   ]
  },
  {
   "cell_type": "code",
   "execution_count": 38,
   "id": "e0649889-5921-4279-9577-a31dfb8188f2",
   "metadata": {},
   "outputs": [
    {
     "name": "stdout",
     "output_type": "stream",
     "text": [
      "Today's date: 2024-02-23\n"
     ]
    }
   ],
   "source": [
    "# let’s store today’s date…. Cuz when look at each object won’t know what day it refers to ( i.e. what if I don’t use this daily )\n",
    "from datetime import date\n",
    "today = date.today()\n",
    "today_str = today.isoformat() # since date types not supported by JSON\n",
    "print(\"Today's date:\", today_str)\n",
    "\n",
    "\n",
    "file_path = 'storage_file_2nd_iteration.json'\n",
    "today_data = {\n",
    "     'went_to_gym' : False,\n",
    "    'caloric_intake' : 3500, \n",
    "    'weight_in_lbs' : 214,\n",
    "    'date' : today_str\n",
    "}\n",
    "\n",
    "try: \n",
    "    with open(file_path,'r') as json_file: \n",
    "        existing_data = json.load(json_file)\n",
    "except FileNotFoundError: # on 1st day\n",
    "    existing_data = []\n",
    "\n",
    "existing_data.append(today_data) \n",
    "\n",
    "with open(file_path,'w') as json_file: \n",
    "    json.dump(existing_data, json_file)\n",
    "\n"
   ]
  },
  {
   "cell_type": "markdown",
   "id": "e8247b8e-fe86-4029-9b15-270f9f09e20b",
   "metadata": {},
   "source": [
    "#### Iter 3: Writing User Input to json file - \n",
    "Purpose: cuz that's more of a real interaction that a user would have.... as opposed to hardcoding ( also might be easier to use for non-coder ) \n"
   ]
  },
  {
   "cell_type": "markdown",
   "id": "16f56572-7653-46dc-a265-0059f4f1390f",
   "metadata": {},
   "source": [
    "## todos...... \n",
    "\n",
    "1. instead of hardcoding.... just take values in as input\n",
    "1st prompt could be...... are you inputting a value for today or a previous day ( cuz that would decide the logic of ..... if to use today's date or some user specified date\n",
    "Yes or No: are you inputting a value for today?\n",
    "If Yes go on with normal flow \n",
    "If No ask, 'Provide date you are inputting for in YYYY-MM-DD format'.... and also might be worth ordering objects off of date time so it's in chronological order"
   ]
  },
  {
   "cell_type": "code",
   "execution_count": null,
   "id": "95b36c77-8cfd-437f-87a5-cd3cb1f36960",
   "metadata": {},
   "outputs": [],
   "source": []
  }
 ],
 "metadata": {
  "kernelspec": {
   "display_name": "Python 3 (ipykernel)",
   "language": "python",
   "name": "python3"
  },
  "language_info": {
   "codemirror_mode": {
    "name": "ipython",
    "version": 3
   },
   "file_extension": ".py",
   "mimetype": "text/x-python",
   "name": "python",
   "nbconvert_exporter": "python",
   "pygments_lexer": "ipython3",
   "version": "3.11.7"
  }
 },
 "nbformat": 4,
 "nbformat_minor": 5
}
